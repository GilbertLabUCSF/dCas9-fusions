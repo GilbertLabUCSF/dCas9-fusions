{
 "cells": [
  {
   "cell_type": "code",
   "execution_count": 1,
   "id": "e0fecfec-8737-4c83-b33b-65924c399386",
   "metadata": {},
   "outputs": [],
   "source": [
    "import gzip\n",
    "from pathlib import Path\n",
    "\n",
    "from tqdm.notebook import tqdm\n",
    "\n",
    "import hits.fastq"
   ]
  },
  {
   "cell_type": "code",
   "execution_count": 2,
   "id": "9ad7e8c1-18a6-4d08-88e7-d289a5160ed5",
   "metadata": {},
   "outputs": [],
   "source": [
    "base_dir = Path('/lab/solexa_weissman/jah/projects/dCas9_fusions')"
   ]
  },
  {
   "cell_type": "code",
   "execution_count": 3,
   "id": "81b23d4d-27ac-4201-b54c-8d1826c68eec",
   "metadata": {},
   "outputs": [],
   "source": [
    "batches = [\n",
    "    '220527_pL1_pL2',\n",
    "    '220610_pL1_pL2',\n",
    "]"
   ]
  },
  {
   "cell_type": "code",
   "execution_count": 4,
   "id": "5234e9de-3e7b-4e2a-8d09-299f5fa5560c",
   "metadata": {},
   "outputs": [
    {
     "data": {
      "application/vnd.jupyter.widget-view+json": {
       "model_id": "a4f3bffc553a423292ca32430a3953b9",
       "version_major": 2,
       "version_minor": 0
      },
      "text/plain": [
       "0it [00:00, ?it/s]"
      ]
     },
     "metadata": {},
     "output_type": "display_data"
    },
    {
     "data": {
      "application/vnd.jupyter.widget-view+json": {
       "model_id": "906cc3b1afee4a518e51c60586dc0718",
       "version_major": 2,
       "version_minor": 0
      },
      "text/plain": [
       "0it [00:00, ?it/s]"
      ]
     },
     "metadata": {},
     "output_type": "display_data"
    },
    {
     "data": {
      "application/vnd.jupyter.widget-view+json": {
       "model_id": "c7e6a62d2a0c492288fe32b2a21f56fc",
       "version_major": 2,
       "version_minor": 0
      },
      "text/plain": [
       "0it [00:00, ?it/s]"
      ]
     },
     "metadata": {},
     "output_type": "display_data"
    },
    {
     "data": {
      "application/vnd.jupyter.widget-view+json": {
       "model_id": "acfd6af681624afdb2c9c499d065dbd0",
       "version_major": 2,
       "version_minor": 0
      },
      "text/plain": [
       "0it [00:00, ?it/s]"
      ]
     },
     "metadata": {},
     "output_type": "display_data"
    }
   ],
   "source": [
    "for batch in batches:\n",
    "    data_dir = base_dir / 'data' / batch\n",
    "    \n",
    "    for fn_name in ['pL1', 'pL2']:\n",
    "        fn = (data_dir / fn_name).with_suffix('.fastq.gz')\n",
    "        trimmed_fn = (data_dir / (fn_name + '_trimmed')).with_suffix('.fastq.gz')\n",
    "        \n",
    "        with gzip.open(trimmed_fn, 'wt', compresslevel=1) as fh: \n",
    "            for read in progress(hits.fastq.reads(fn)):\n",
    "                fh.write(str(read[16:-16]))"
   ]
  }
 ],
 "metadata": {
  "kernelspec": {
   "display_name": "Python 3.7",
   "language": "python",
   "name": "python3.7"
  },
  "language_info": {
   "codemirror_mode": {
    "name": "ipython",
    "version": 3
   },
   "file_extension": ".py",
   "mimetype": "text/x-python",
   "name": "python",
   "nbconvert_exporter": "python",
   "pygments_lexer": "ipython3",
   "version": "3.7.12"
  }
 },
 "nbformat": 4,
 "nbformat_minor": 5
}
